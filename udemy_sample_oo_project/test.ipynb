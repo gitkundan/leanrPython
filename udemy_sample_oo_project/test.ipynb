{
 "cells": [
  {
   "cell_type": "code",
   "execution_count": null,
   "metadata": {},
   "outputs": [],
   "source": [
    "import json"
   ]
  }
 ],
 "metadata": {
  "kernelspec": {
   "display_name": "Python 3.10.8 ('.venv': venv)",
   "language": "python",
   "name": "python3"
  },
  "language_info": {
   "name": "python",
   "version": "3.10.8"
  },
  "orig_nbformat": 4,
  "vscode": {
   "interpreter": {
    "hash": "2ef0069a81192804650ec377fa159d4d5f4319746d55cd5c1887b0f15c0b4b4c"
   }
  }
 },
 "nbformat": 4,
 "nbformat_minor": 2
}
